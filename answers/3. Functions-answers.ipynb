{
 "cells": [
  {
   "attachments": {},
   "cell_type": "markdown",
   "metadata": {},
   "source": [
    "# Functions"
   ]
  },
  {
   "cell_type": "markdown",
   "metadata": {},
   "source": [
    "## Exercise - Writing your own functions\n"
   ]
  },
  {
   "cell_type": "markdown",
   "metadata": {},
   "source": [
    "1. Write a function where we can multiply 2 numbers together, and add any number to it."
   ]
  },
  {
   "cell_type": "code",
   "execution_count": 10,
   "metadata": {},
   "outputs": [
    {
     "name": "stdout",
     "output_type": "stream",
     "text": [
      "7\n"
     ]
    }
   ],
   "source": [
    "def fMultNum(a, b, x):\n",
    "    return a * b + x\n",
    "multnum = fMultNum(2, 3, 1)\n",
    "print(multnum)"
   ]
  },
  {
   "cell_type": "markdown",
   "metadata": {},
   "source": [
    "2. Write a function to sum all the numbers in a list."
   ]
  },
  {
   "cell_type": "code",
   "execution_count": 11,
   "metadata": {},
   "outputs": [
    {
     "data": {
      "text/plain": [
       "20"
      ]
     },
     "execution_count": 11,
     "metadata": {},
     "output_type": "execute_result"
    }
   ],
   "source": [
    "fib_list = [1, 1, 2, 3, 5, 8]\n",
    "sum(fib_list)"
   ]
  },
  {
   "cell_type": "markdown",
   "metadata": {},
   "source": [
    "Other solution not using a built-in function, and checking if the elements are numbers:"
   ]
  },
  {
   "cell_type": "code",
   "execution_count": 40,
   "metadata": {},
   "outputs": [
    {
     "name": "stdout",
     "output_type": "stream",
     "text": [
      "<class 'list'>\n",
      "Entry 5 is not numeric and therefore ignored in the sum.\n",
      "Entry 6 is not numeric and therefore ignored in the sum.\n",
      "10\n"
     ]
    }
   ],
   "source": [
    "def my_sum_list(a_list, notify_non_numeric=False):\n",
    "    result=0\n",
    "    for index, i in enumerate(a_list):\n",
    "        if type(i) == int or type(i) == float:\n",
    "            result += i\n",
    "        else:\n",
    "            if notify_non_numeric:\n",
    "                print(f'Entry {index} is not numeric and therefore ignored in the sum.')\n",
    "    return result\n",
    "print(list)\n",
    "my_list = list(range(5)) + ['a', 'b']\n",
    "print(my_sum_list(my_list, notify_non_numeric=True))"
   ]
  },
  {
   "cell_type": "markdown",
   "metadata": {},
   "source": [
    "Other solution (compact):"
   ]
  },
  {
   "cell_type": "code",
   "execution_count": 2,
   "metadata": {},
   "outputs": [
    {
     "data": {
      "text/plain": [
       "21"
      ]
     },
     "execution_count": 2,
     "metadata": {},
     "output_type": "execute_result"
    }
   ],
   "source": [
    "def summation(numbers):\n",
    "    result = 0\n",
    "    for y in numbers:\n",
    "        result += y\n",
    "    return result\n",
    "summation([6,7,8])"
   ]
  },
  {
   "cell_type": "markdown",
   "metadata": {},
   "source": [
    "3. Write a function to reverse a string. Sample String : \"1234abcd\""
   ]
  },
  {
   "cell_type": "code",
   "execution_count": 4,
   "metadata": {},
   "outputs": [
    {
     "name": "stdout",
     "output_type": "stream",
     "text": [
      "dcba4321\n"
     ]
    }
   ],
   "source": [
    "def fRevStr(mystring):\n",
    "    revstring = ''\n",
    "    for i in range(len(mystring)-1, -1, -1):\n",
    "         revstring = revstring + mystring[i]\n",
    "    return revstring\n",
    "srevstring = fRevStr(\"1234abcd\")\n",
    "print(srevstring)"
   ]
  },
  {
   "cell_type": "markdown",
   "metadata": {},
   "source": [
    "Other solution:"
   ]
  },
  {
   "cell_type": "code",
   "execution_count": 43,
   "metadata": {},
   "outputs": [
    {
     "name": "stdout",
     "output_type": "stream",
     "text": [
      "dcba4321\n"
     ]
    }
   ],
   "source": [
    "def fRevStr2(mystring):\n",
    "    revstring = ''\n",
    "    for x in mystring:\n",
    "        revstring = x + revstring\n",
    "    return revstring\n",
    "srevstring2 = fRevStr2(\"1234abcd\")\n",
    "print(srevstring2)"
   ]
  },
  {
   "cell_type": "markdown",
   "metadata": {},
   "source": [
    "Other solution:"
   ]
  },
  {
   "cell_type": "code",
   "execution_count": 5,
   "metadata": {},
   "outputs": [
    {
     "name": "stdout",
     "output_type": "stream",
     "text": [
      "dcba4321\n"
     ]
    }
   ],
   "source": [
    "def reverse_string(a='1234abcd'):\n",
    "    return a[::-1]\n",
    "print(reverse_string())"
   ]
  },
  {
   "cell_type": "markdown",
   "metadata": {},
   "source": [
    "4. Write a function to multiply all the numbers in a list. Sample List : (8, 2, 3, -1, 7)"
   ]
  },
  {
   "cell_type": "code",
   "execution_count": 47,
   "metadata": {},
   "outputs": [
    {
     "name": "stdout",
     "output_type": "stream",
     "text": [
      "-336\n"
     ]
    }
   ],
   "source": [
    "def multiAll(l):\n",
    "    m=1\n",
    "    for a in l:\n",
    "        m*=a\n",
    "    print(m)\n",
    "\n",
    "multiAll([8,2,3,-1,7])"
   ]
  },
  {
   "cell_type": "markdown",
   "metadata": {},
   "source": [
    "5. Write a function to check whether a number is in a given range."
   ]
  },
  {
   "cell_type": "code",
   "execution_count": 49,
   "metadata": {},
   "outputs": [
    {
     "data": {
      "text/plain": [
       "1"
      ]
     },
     "execution_count": 49,
     "metadata": {},
     "output_type": "execute_result"
    }
   ],
   "source": [
    "def fIsInRange(number, b, c):\n",
    "    if number <= c and b <= number:\n",
    "        isinrange = 1\n",
    "    else:\n",
    "        isinrange = 0\n",
    "    return isinrange\n",
    "\n",
    "fIsInRange(5,2,8)"
   ]
  },
  {
   "cell_type": "markdown",
   "metadata": {},
   "source": [
    "Other (more compact) solution:"
   ]
  },
  {
   "cell_type": "code",
   "execution_count": 51,
   "metadata": {},
   "outputs": [
    {
     "data": {
      "text/plain": [
       "True"
      ]
     },
     "execution_count": 51,
     "metadata": {},
     "output_type": "execute_result"
    }
   ],
   "source": [
    "def is_in_range(number, a , b):\n",
    "    return (a <= number) & (number <= b)\n",
    "is_in_range(5,2,8)"
   ]
  },
  {
   "cell_type": "markdown",
   "metadata": {},
   "source": [
    "Other solution:"
   ]
  },
  {
   "cell_type": "code",
   "execution_count": 55,
   "metadata": {},
   "outputs": [
    {
     "data": {
      "text/plain": [
       "False"
      ]
     },
     "execution_count": 55,
     "metadata": {},
     "output_type": "execute_result"
    }
   ],
   "source": [
    "def check_range(number, a, b):\n",
    "    return number in range(a,b)\n",
    "check_range(3,2,8)\n",
    "check_range(2.5,2,8) # only works with integers "
   ]
  },
  {
   "cell_type": "markdown",
   "metadata": {},
   "source": [
    "6. Write a function that takes a list and returns a new list with unique elements of the first list. Sample List : [1,2,3,3,3,3,4,5] Unique List : [1, 2, 3, 4, 5]"
   ]
  },
  {
   "cell_type": "code",
   "execution_count": 57,
   "metadata": {},
   "outputs": [
    {
     "name": "stdout",
     "output_type": "stream",
     "text": [
      "[2, 3, 5, 6]\n"
     ]
    }
   ],
   "source": [
    "def unique(l):\n",
    "    u=[]\n",
    "    l=sorted(l)\n",
    "    for i in range(0,len(l)):\n",
    "        if l[i] != l[i-1]:\n",
    "               u.append(l[i])\n",
    "    print(u)\n",
    "    \n",
    "sample_list = [2,5,2,3,6]\n",
    "unique(sample_list)"
   ]
  },
  {
   "cell_type": "markdown",
   "metadata": {},
   "source": [
    "Other solution:"
   ]
  },
  {
   "cell_type": "code",
   "execution_count": 58,
   "metadata": {},
   "outputs": [
    {
     "name": "stdout",
     "output_type": "stream",
     "text": [
      "[2, 5, 3, 6]\n"
     ]
    }
   ],
   "source": [
    "def uniq_members(list):\n",
    "    uniq_list = []\n",
    "    for val in list:\n",
    "        if val not in uniq_list:\n",
    "            uniq_list.append(val)\n",
    "\n",
    "    return uniq_list\n",
    "\n",
    "sample_list = [2,5,2,3,6]\n",
    "print(uniq_members(sample_list))"
   ]
  },
  {
   "cell_type": "markdown",
   "metadata": {},
   "source": [
    "Other solution:"
   ]
  },
  {
   "cell_type": "code",
   "execution_count": 22,
   "metadata": {},
   "outputs": [
    {
     "name": "stdout",
     "output_type": "stream",
     "text": [
      "[1, 2, 3, 4, 5]\n"
     ]
    }
   ],
   "source": [
    "def fUniqList(mylist):\n",
    "    return list(set(mylist))\n",
    "uniqlist = fUniqList((1, 2, 3, 3, 3, 3, 4, 5))\n",
    "print(uniqlist)"
   ]
  },
  {
   "cell_type": "markdown",
   "metadata": {},
   "source": [
    "7. Write a function to convert list to list of dictionaries. \n",
    "    - Sample lists: [\"Black\", \"Red\", \"Maroon\", \"Yellow\"], [\"#000000\", \"#FF0000\", \"#800000\", \"#FFFF00\"]\n",
    "    - Expected Output: [{'color_name': 'Black', 'color_code': '#000000'}, {'color_name': 'Red', 'color_code': '#FF0000'}, {'color_name': 'Maroon', 'color_code': '#800000'}, {'color_name': 'Yellow', 'color_code': '#FFFF00'}]"
   ]
  },
  {
   "cell_type": "code",
   "execution_count": 23,
   "metadata": {},
   "outputs": [
    {
     "name": "stdout",
     "output_type": "stream",
     "text": [
      "{'Black': '#000000', 'Red': '#FF0000', 'Maroon': '#800000', 'Yellow': '#FFFF00'}\n"
     ]
    }
   ],
   "source": [
    "list1 = [\"Black\", \"Red\", \"Maroon\", \"Yellow\"]\n",
    "list2 = [\"#000000\", \"#FF0000\", \"#800000\", \"#FFFF00\"]\n",
    "def create_dict(key_list, index_list):\n",
    "    dict = {}\n",
    "    for i in range(len(key_list)):\n",
    "        dict[key_list[i]]= index_list[i]\n",
    "    return dict\n",
    "print(create_dict(list1,list2))"
   ]
  },
  {
   "cell_type": "markdown",
   "metadata": {},
   "source": [
    "Other solution:"
   ]
  },
  {
   "cell_type": "code",
   "execution_count": 25,
   "metadata": {},
   "outputs": [
    {
     "name": "stdout",
     "output_type": "stream",
     "text": [
      "[{'colour_name': 'Black', 'colour_code': '#000000'}, {'colour_name': 'Red', 'colour_code': '#FF0000'}, {'colour_name': 'Maroon', 'colour_code': '#800000'}, {'colour_name': 'Yellow', 'colour_code': '#FFFF00'}]\n"
     ]
    }
   ],
   "source": [
    "def lists2dict(key_list, val_list, key, val):\n",
    "    res = []\n",
    "    for k, v in zip(key_list, val_list):\n",
    "        res.append({key: k, val: v})\n",
    "    return res\n",
    "print(lists2dict(list1,list2, 'colour_name', 'colour_code'))"
   ]
  },
  {
   "cell_type": "markdown",
   "metadata": {},
   "source": [
    "8. Write a function to check if a given number is within 100 of 1000. Should return either True or False."
   ]
  },
  {
   "cell_type": "code",
   "execution_count": 29,
   "metadata": {},
   "outputs": [
    {
     "name": "stdout",
     "output_type": "stream",
     "text": [
      "true\n"
     ]
    }
   ],
   "source": [
    "def check(y):\n",
    "    if y<=1100 and y>=900:\n",
    "        print(\"true\")\n",
    "    else:\n",
    "        print(\"false\")\n",
    "check(1100)"
   ]
  },
  {
   "cell_type": "markdown",
   "metadata": {},
   "source": [
    "Other solution:"
   ]
  },
  {
   "cell_type": "code",
   "execution_count": 31,
   "metadata": {},
   "outputs": [
    {
     "name": "stdout",
     "output_type": "stream",
     "text": [
      "False\n"
     ]
    }
   ],
   "source": [
    "def check_num(num):\n",
    "    return (num > (1000 - 100) and num < (1000 +100))\n",
    "print(check_num(800))"
   ]
  },
  {
   "cell_type": "markdown",
   "metadata": {},
   "source": [
    "Other solution (reusing our range function from above):"
   ]
  },
  {
   "cell_type": "code",
   "execution_count": 38,
   "metadata": {},
   "outputs": [
    {
     "name": "stdout",
     "output_type": "stream",
     "text": [
      "False\n"
     ]
    }
   ],
   "source": [
    "def isinrange(x, start, finish):\n",
    "    return x >= start and x < finish\n",
    "\n",
    "isinrange(5, 0, 100)\n",
    "\n",
    "def iswithindistance(num, center, distance):\n",
    "    return isinrange(num, center - distance, center + distance)\n",
    "\n",
    "def exercise_solution(x):\n",
    "    return iswithindistance(x, 1000, 100)\n",
    "\n",
    "print(exercise_solution(5))"
   ]
  }
 ],
 "metadata": {
  "kernelspec": {
   "display_name": "Python 3 (ipykernel)",
   "language": "python",
   "name": "python3"
  },
  "language_info": {
   "codemirror_mode": {
    "name": "ipython",
    "version": 3
   },
   "file_extension": ".py",
   "mimetype": "text/x-python",
   "name": "python",
   "nbconvert_exporter": "python",
   "pygments_lexer": "ipython3",
   "version": "3.11.0 | packaged by conda-forge | (main, Oct 25 2022, 06:21:25) [Clang 14.0.4 ]"
  },
  "vscode": {
   "interpreter": {
    "hash": "33e49de180f7b68adbe0b8c3da4cce2849e5189a09c8fdb059671b22301aa1fe"
   }
  }
 },
 "nbformat": 4,
 "nbformat_minor": 4
}
