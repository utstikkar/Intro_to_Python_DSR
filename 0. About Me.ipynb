{
 "cells": [
  {
   "cell_type": "markdown",
   "metadata": {},
   "source": [
    "# About Me:\n",
    "## Dr. Amélie Anglade\n",
    "### Freelance DS and Music IR expert\n",
    "- PhD in Music IR from Queen Mary University of London\n",
    "- Have worked for \n",
    "    - Large R&D Labs: e.g. Sony CSL, Philips Research...\n",
    "    - ... and Music Tech startups: e.g. SoundCloud, flowkey\n",
    "    - but also for non-music organisations: e.g. Mercedes-Benz, EU Commission\n",
    "- Since:\n",
    "    - 2004: in Music Tech\n",
    "    - 2011: in Berlin\n",
    "    - 2014: freelancing\n",
    "- Use Python for R&D, quick prototyping, deployment and scaling with all my clients\n",
    "\n",
    "### Experience teaching Python\n",
    "- 2012 - 2015: Co-founder and Python coach at the OpenTechSchool Berlin\n",
    "- 2015 - 2018: teaching Python/Numpy/Pandas at DSR\n",
    "- Since November 2022: teaching Python/Numpy/Pandas and Freelancing in Data Science at DSR\n",
    "- __And I also offer DS Mentoring (paid for) services__\n",
    "\n",
    "### Contact: \n",
    "- amelie.anglade@gmail.com\n",
    "- [amelieanglade.net](amelieanglade.net)"
   ]
  },
  {
   "cell_type": "markdown",
   "metadata": {},
   "source": [
    "# About You:\n",
    "- Name\n",
    "- Background (work & academic)\n",
    "- Programming experience/what you know about Python \n",
    "- Potential project ideas"
   ]
  }
 ],
 "metadata": {
  "kernelspec": {
   "display_name": "Python 3 (ipykernel)",
   "language": "python",
   "name": "python3"
  },
  "language_info": {
   "codemirror_mode": {
    "name": "ipython",
    "version": 3
   },
   "file_extension": ".py",
   "mimetype": "text/x-python",
   "name": "python",
   "nbconvert_exporter": "python",
   "pygments_lexer": "ipython3",
   "version": "3.11.0"
  }
 },
 "nbformat": 4,
 "nbformat_minor": 4
}
